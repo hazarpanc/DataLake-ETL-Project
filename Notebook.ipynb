{
 "cells": [
  {
   "cell_type": "code",
   "execution_count": 1,
   "metadata": {
    "editable": true,
    "execution": {
     "iopub.execute_input": "2022-11-06T01:09:54.894215Z",
     "iopub.status.busy": "2022-11-06T01:09:54.893988Z",
     "iopub.status.idle": "2022-11-06T01:10:22.805026Z",
     "shell.execute_reply": "2022-11-06T01:10:22.804393Z",
     "shell.execute_reply.started": "2022-11-06T01:09:54.894191Z"
    },
    "tags": []
   },
   "outputs": [
    {
     "data": {
      "application/vnd.jupyter.widget-view+json": {
       "model_id": "fe6225c013f54355a06ab5bfad7c2a2b",
       "version_major": 2,
       "version_minor": 0
      },
      "text/plain": [
       "VBox()"
      ]
     },
     "metadata": {},
     "output_type": "display_data"
    },
    {
     "name": "stdout",
     "output_type": "stream",
     "text": [
      "Starting Spark application\n"
     ]
    },
    {
     "data": {
      "text/html": [
       "<table>\n",
       "<tr><th>ID</th><th>YARN Application ID</th><th>Kind</th><th>State</th><th>Spark UI</th><th>Driver log</th><th>User</th><th>Current session?</th></tr><tr><td>0</td><td>application_1667696313739_0001</td><td>pyspark</td><td>idle</td><td><a target=\"_blank\" href=\"http://ip-172-31-59-171.us-west-2.compute.internal:20888/proxy/application_1667696313739_0001/\" class=\"emr-proxy-link\" emr-resource=\"j-1ROFP94R30RGU\n",
       "\" application-id=\"application_1667696313739_0001\">Link</a></td><td><a target=\"_blank\" href=\"http://ip-172-31-52-17.us-west-2.compute.internal:8042/node/containerlogs/container_1667696313739_0001_01_000001/livy\" >Link</a></td><td>None</td><td>✔</td></tr></table>"
      ],
      "text/plain": [
       "<IPython.core.display.HTML object>"
      ]
     },
     "metadata": {},
     "output_type": "display_data"
    },
    {
     "data": {
      "application/vnd.jupyter.widget-view+json": {
       "model_id": "",
       "version_major": 2,
       "version_minor": 0
      },
      "text/plain": [
       "FloatProgress(value=0.0, bar_style='info', description='Progress:', layout=Layout(height='25px', width='50%'),…"
      ]
     },
     "metadata": {},
     "output_type": "display_data"
    },
    {
     "name": "stdout",
     "output_type": "stream",
     "text": [
      "SparkSession available as 'spark'.\n"
     ]
    },
    {
     "data": {
      "application/vnd.jupyter.widget-view+json": {
       "model_id": "",
       "version_major": 2,
       "version_minor": 0
      },
      "text/plain": [
       "FloatProgress(value=0.0, bar_style='info', description='Progress:', layout=Layout(height='25px', width='50%'),…"
      ]
     },
     "metadata": {},
     "output_type": "display_data"
    }
   ],
   "source": [
    "import configparser\n",
    "from datetime import datetime\n",
    "import os\n",
    "from pyspark.sql import SparkSession\n",
    "from pyspark.sql.functions import udf, col\n",
    "from pyspark.sql.functions import year, month, dayofmonth, hour, weekofyear, date_format\n",
    "from pyspark.sql.types import StructType, StructField, DoubleType, StringType, IntegerType, DateType, LongType, TimestampType"
   ]
  },
  {
   "cell_type": "code",
   "execution_count": 5,
   "metadata": {
    "editable": true,
    "execution": {
     "iopub.execute_input": "2022-11-06T01:11:22.833058Z",
     "iopub.status.busy": "2022-11-06T01:11:22.832836Z",
     "iopub.status.idle": "2022-11-06T01:11:22.908655Z",
     "shell.execute_reply": "2022-11-06T01:11:22.907986Z",
     "shell.execute_reply.started": "2022-11-06T01:11:22.833033Z"
    },
    "tags": []
   },
   "outputs": [
    {
     "data": {
      "application/vnd.jupyter.widget-view+json": {
       "model_id": "33fdd680191a4f6ba6b72a6acef8324c",
       "version_major": 2,
       "version_minor": 0
      },
      "text/plain": [
       "VBox()"
      ]
     },
     "metadata": {},
     "output_type": "display_data"
    },
    {
     "data": {
      "application/vnd.jupyter.widget-view+json": {
       "model_id": "",
       "version_major": 2,
       "version_minor": 0
      },
      "text/plain": [
       "FloatProgress(value=0.0, bar_style='info', description='Progress:', layout=Layout(height='25px', width='50%'),…"
      ]
     },
     "metadata": {},
     "output_type": "display_data"
    }
   ],
   "source": [
    "config = configparser.ConfigParser()\n",
    "config.read('dl.cfg')\n",
    "\n",
    "os.environ['AWS_ACCESS_KEY_ID'] = config['AWS']['AWS_ACCESS_KEY_ID']\n",
    "os.environ['AWS_SECRET_ACCESS_KEY'] = config['AWS']['AWS_SECRET_ACCESS_KEY']"
   ]
  },
  {
   "cell_type": "code",
   "execution_count": 28,
   "metadata": {
    "editable": true,
    "execution": {
     "iopub.execute_input": "2022-11-06T01:35:43.478367Z",
     "iopub.status.busy": "2022-11-06T01:35:43.478142Z",
     "iopub.status.idle": "2022-11-06T01:35:43.537171Z",
     "shell.execute_reply": "2022-11-06T01:35:43.536604Z",
     "shell.execute_reply.started": "2022-11-06T01:35:43.478344Z"
    },
    "tags": []
   },
   "outputs": [
    {
     "data": {
      "application/vnd.jupyter.widget-view+json": {
       "model_id": "b5bcb6fceab9439cb660a72a8abccf85",
       "version_major": 2,
       "version_minor": 0
      },
      "text/plain": [
       "VBox()"
      ]
     },
     "metadata": {},
     "output_type": "display_data"
    },
    {
     "data": {
      "application/vnd.jupyter.widget-view+json": {
       "model_id": "",
       "version_major": 2,
       "version_minor": 0
      },
      "text/plain": [
       "FloatProgress(value=0.0, bar_style='info', description='Progress:', layout=Layout(height='25px', width='50%'),…"
      ]
     },
     "metadata": {},
     "output_type": "display_data"
    }
   ],
   "source": [
    "def create_spark_session():\n",
    "    spark = SparkSession \\\n",
    "        .builder \\\n",
    "        .config(\"spark.jars.packages\", \"org.apache.hadoop:hadoop-aws:2.7.0\") \\\n",
    "        .getOrCreate()\n",
    "    return spark\n",
    "\n",
    "spark = create_spark_session()"
   ]
  },
  {
   "cell_type": "code",
   "execution_count": 29,
   "metadata": {
    "editable": true,
    "execution": {
     "iopub.execute_input": "2022-11-06T01:35:45.386385Z",
     "iopub.status.busy": "2022-11-06T01:35:45.386136Z",
     "iopub.status.idle": "2022-11-06T01:35:45.447222Z",
     "shell.execute_reply": "2022-11-06T01:35:45.446623Z",
     "shell.execute_reply.started": "2022-11-06T01:35:45.386359Z"
    },
    "tags": []
   },
   "outputs": [
    {
     "data": {
      "application/vnd.jupyter.widget-view+json": {
       "model_id": "737cc1ae18d843de97ddf9691424f287",
       "version_major": 2,
       "version_minor": 0
      },
      "text/plain": [
       "VBox()"
      ]
     },
     "metadata": {},
     "output_type": "display_data"
    },
    {
     "data": {
      "application/vnd.jupyter.widget-view+json": {
       "model_id": "",
       "version_major": 2,
       "version_minor": 0
      },
      "text/plain": [
       "FloatProgress(value=0.0, bar_style='info', description='Progress:', layout=Layout(height='25px', width='50%'),…"
      ]
     },
     "metadata": {},
     "output_type": "display_data"
    }
   ],
   "source": [
    "input_data = \"s3a://udacity-dend/\"\n",
    "output_data = \"s3://data-lake-project-hp/\""
   ]
  },
  {
   "cell_type": "code",
   "execution_count": 30,
   "metadata": {
    "editable": true,
    "execution": {
     "iopub.execute_input": "2022-11-06T01:35:47.081521Z",
     "iopub.status.busy": "2022-11-06T01:35:47.081294Z",
     "iopub.status.idle": "2022-11-06T01:36:00.418968Z",
     "shell.execute_reply": "2022-11-06T01:36:00.418243Z",
     "shell.execute_reply.started": "2022-11-06T01:35:47.081497Z"
    },
    "tags": []
   },
   "outputs": [
    {
     "data": {
      "application/vnd.jupyter.widget-view+json": {
       "model_id": "4277eabd9a8b45f38c5c3c3647e8f5d4",
       "version_major": 2,
       "version_minor": 0
      },
      "text/plain": [
       "VBox()"
      ]
     },
     "metadata": {},
     "output_type": "display_data"
    },
    {
     "data": {
      "application/vnd.jupyter.widget-view+json": {
       "model_id": "",
       "version_major": 2,
       "version_minor": 0
      },
      "text/plain": [
       "FloatProgress(value=0.0, bar_style='info', description='Progress:', layout=Layout(height='25px', width='50%'),…"
      ]
     },
     "metadata": {},
     "output_type": "display_data"
    }
   ],
   "source": [
    "songSchema = StructType([\n",
    "    StructField(\"artist_id\",StringType()),\n",
    "    StructField(\"artist_latitude\",DoubleType()),\n",
    "    StructField(\"artist_location\",StringType()),\n",
    "    StructField(\"artist_longitude\",DoubleType()),\n",
    "    StructField(\"artist_name\",StringType()),\n",
    "    StructField(\"duration\",DoubleType()),\n",
    "    StructField(\"num_songs\",IntegerType()),\n",
    "    StructField(\"song_id\",StringType()),\n",
    "    StructField(\"title\",StringType()),\n",
    "    StructField(\"year\",IntegerType()),\n",
    "])\n",
    "\n",
    "# read song data file\n",
    "song_data = input_data + 'song_data/*/*/*'\n",
    "df = spark.read.json(song_data, schema=songSchema).drop_duplicates()\n",
    "df.createOrReplaceTempView(\"songs\")"
   ]
  },
  {
   "cell_type": "code",
   "execution_count": 31,
   "metadata": {
    "editable": true,
    "execution": {
     "iopub.execute_input": "2022-11-06T01:36:12.423598Z",
     "iopub.status.busy": "2022-11-06T01:36:12.423354Z",
     "iopub.status.idle": "2022-11-06T01:37:09.907673Z",
     "shell.execute_reply": "2022-11-06T01:37:09.906831Z",
     "shell.execute_reply.started": "2022-11-06T01:36:12.423565Z"
    },
    "tags": []
   },
   "outputs": [
    {
     "data": {
      "application/vnd.jupyter.widget-view+json": {
       "model_id": "021e6008fb104350a68662aea4063623",
       "version_major": 2,
       "version_minor": 0
      },
      "text/plain": [
       "VBox()"
      ]
     },
     "metadata": {},
     "output_type": "display_data"
    },
    {
     "data": {
      "application/vnd.jupyter.widget-view+json": {
       "model_id": "",
       "version_major": 2,
       "version_minor": 0
      },
      "text/plain": [
       "FloatProgress(value=0.0, bar_style='info', description='Progress:', layout=Layout(height='25px', width='50%'),…"
      ]
     },
     "metadata": {},
     "output_type": "display_data"
    },
    {
     "name": "stdout",
     "output_type": "stream",
     "text": [
      "+------------------+--------------------+------------------+----+---------+\n",
      "|           song_id|               title|         artist_id|year| duration|\n",
      "+------------------+--------------------+------------------+----+---------+\n",
      "|SOLLALT12A8C1399F3|Piano Concerto No...|ARWMEJW11F4C83C123|   0|319.37261|\n",
      "|SOIEUCF12A6D4F9889|Symphony in B fla...|ARBB8QH1187FB54138|   0|398.34077|\n",
      "|SODTEMK12AF72A7210|A Simple Desultor...|ARIWB161187B9AA1D5|1966|138.70975|\n",
      "|SOMGIWL12A8C132D73|1776/He Plays the...|ARTAUG51187FB3E10D|   0| 185.0771|\n",
      "|SOMHOLR12A6D4FBE6A|This Is Why I'm H...|ARGK9MB1187FB37402|   0|258.92526|\n",
      "|SONSNAS12A58A796A9|Something To Be P...|ARLYWG51187FB52D19|2004| 255.4771|\n",
      "|SOCMUUZ12A6310E299|I Wouldn't Normal...|ARA60941187B9AD4A3|1994|179.82649|\n",
      "|SOPDHNT12A58A763A5|Of A Dear Friend ...|ARF1AUC1187B98D9A7|2003|297.09016|\n",
      "|SOLKOEI12A6D4F85B9|Tomorrow's People...|AR86HDW1187FB37331|   0|422.26893|\n",
      "|SONYPOM12A8C13B2D7|I Think My Wife I...|ARDNS031187B9924F0|2005|186.48771|\n",
      "+------------------+--------------------+------------------+----+---------+"
     ]
    }
   ],
   "source": [
    "songs_table = spark.sql(\"SELECT song_id, title, artist_id, year, duration FROM songs LIMIT 10\")\n",
    "songs_table.show()"
   ]
  },
  {
   "cell_type": "code",
   "execution_count": 33,
   "metadata": {
    "editable": true,
    "execution": {
     "iopub.execute_input": "2022-11-06T01:37:31.490756Z",
     "iopub.status.busy": "2022-11-06T01:37:31.490415Z",
     "iopub.status.idle": "2022-11-06T01:42:15.625830Z",
     "shell.execute_reply": "2022-11-06T01:42:15.625094Z",
     "shell.execute_reply.started": "2022-11-06T01:37:31.490707Z"
    },
    "tags": []
   },
   "outputs": [
    {
     "data": {
      "application/vnd.jupyter.widget-view+json": {
       "model_id": "9fede1cb6c944d81aa5c47faf44412b5",
       "version_major": 2,
       "version_minor": 0
      },
      "text/plain": [
       "VBox()"
      ]
     },
     "metadata": {},
     "output_type": "display_data"
    },
    {
     "data": {
      "application/vnd.jupyter.widget-view+json": {
       "model_id": "",
       "version_major": 2,
       "version_minor": 0
      },
      "text/plain": [
       "FloatProgress(value=0.0, bar_style='info', description='Progress:', layout=Layout(height='25px', width='50%'),…"
      ]
     },
     "metadata": {},
     "output_type": "display_data"
    }
   ],
   "source": [
    "songs_table = spark.sql(\"SELECT song_id, title, artist_id, year, duration FROM songs\")\n",
    "songs_table.write.parquet(path=output_data+\"songs/songs_table.parquet\", partitionBy=[\"year\",\"artist_id\"], mode=\"overwrite\")"
   ]
  },
  {
   "cell_type": "code",
   "execution_count": 27,
   "metadata": {
    "editable": true,
    "execution": {
     "iopub.execute_input": "2022-11-06T01:32:04.610890Z",
     "iopub.status.busy": "2022-11-06T01:32:04.610508Z",
     "iopub.status.idle": "2022-11-06T01:33:14.318405Z",
     "shell.execute_reply": "2022-11-06T01:33:14.317780Z",
     "shell.execute_reply.started": "2022-11-06T01:32:04.610838Z"
    },
    "tags": []
   },
   "outputs": [
    {
     "data": {
      "application/vnd.jupyter.widget-view+json": {
       "model_id": "9cdb89ca701a48d6971a7b8465222b24",
       "version_major": 2,
       "version_minor": 0
      },
      "text/plain": [
       "VBox()"
      ]
     },
     "metadata": {},
     "output_type": "display_data"
    },
    {
     "data": {
      "application/vnd.jupyter.widget-view+json": {
       "model_id": "",
       "version_major": 2,
       "version_minor": 0
      },
      "text/plain": [
       "FloatProgress(value=0.0, bar_style='info', description='Progress:', layout=Layout(height='25px', width='50%'),…"
      ]
     },
     "metadata": {},
     "output_type": "display_data"
    }
   ],
   "source": [
    "artists_table = spark.sql(\"SELECT artist_id, artist_name, artist_location, artist_latitude, artist_longitude FROM songs\")\n",
    "artists_table.write.parquet(path=output_data+\"artists_table/artists_table.parquet\", mode=\"overwrite\")"
   ]
  },
  {
   "cell_type": "code",
   "execution_count": 34,
   "metadata": {
    "execution": {
     "iopub.execute_input": "2022-11-06T01:43:56.170118Z",
     "iopub.status.busy": "2022-11-06T01:43:56.169788Z",
     "iopub.status.idle": "2022-11-06T01:44:57.648664Z",
     "shell.execute_reply": "2022-11-06T01:44:57.648057Z",
     "shell.execute_reply.started": "2022-11-06T01:43:56.170080Z"
    }
   },
   "outputs": [
    {
     "data": {
      "application/vnd.jupyter.widget-view+json": {
       "model_id": "5ad6ca3762d445ffb9b0712853224b4e",
       "version_major": 2,
       "version_minor": 0
      },
      "text/plain": [
       "VBox()"
      ]
     },
     "metadata": {},
     "output_type": "display_data"
    },
    {
     "data": {
      "application/vnd.jupyter.widget-view+json": {
       "model_id": "",
       "version_major": 2,
       "version_minor": 0
      },
      "text/plain": [
       "FloatProgress(value=0.0, bar_style='info', description='Progress:', layout=Layout(height='25px', width='50%'),…"
      ]
     },
     "metadata": {},
     "output_type": "display_data"
    },
    {
     "name": "stdout",
     "output_type": "stream",
     "text": [
      "+------------------+--------------------+--------------------+---------------+----------------+\n",
      "|         artist_id|         artist_name|     artist_location|artist_latitude|artist_longitude|\n",
      "+------------------+--------------------+--------------------+---------------+----------------+\n",
      "|AR7DQY51187B9B2D88|Chingo Bling w/ B...|               Texas|        31.1689|      -100.07715|\n",
      "|AR5LQAT1187B9B1326|Nuova Compagnia D...|       Naples, Italy|        40.8399|        14.25185|\n",
      "|ARDWI4G1187FB369E1|     Charlie Daniels|      Mt. Juliet, TN|       36.19524|       -86.51858|\n",
      "|ARF1AUC1187B98D9A7|      Fighting Jacks|San Jose, California|       37.33847|      -121.88579|\n",
      "|ARV3K201187FB3A680|       Helen Shapiro|Bethnal Green, Lo...|       51.52668|        -0.06257|\n",
      "|ARRWVPI1187FB4615A|    The Hurt Process|   Brighton, England|       50.82821|        -0.13449|\n",
      "|ARXGBPO1187B9ACA14|Andy Summers / Be...| Lancashire, England|       53.86121|        -2.56483|\n",
      "|ARZ8S071187B993849|Tito Rodriguez_ L...|San Juan, Puerto ...|       18.46617|       -66.10665|\n",
      "|ARTG85X1187B99D1F5|      Isley Brothers|    Cincinnati, Ohio|       39.10644|       -84.50469|\n",
      "|ARMC5JL1187B98C9ED|The Most Serene R...|Milton, Ontario, ...|       43.51103|       -79.88389|\n",
      "+------------------+--------------------+--------------------+---------------+----------------+\n",
      "only showing top 10 rows"
     ]
    }
   ],
   "source": [
    "artists_table.show(10)"
   ]
  },
  {
   "cell_type": "markdown",
   "metadata": {
    "editable": true
   },
   "source": [
    "## Log Data"
   ]
  },
  {
   "cell_type": "code",
   "execution_count": 35,
   "metadata": {
    "editable": true,
    "execution": {
     "iopub.execute_input": "2022-11-06T01:45:18.197775Z",
     "iopub.status.busy": "2022-11-06T01:45:18.197527Z",
     "iopub.status.idle": "2022-11-06T01:45:20.476002Z",
     "shell.execute_reply": "2022-11-06T01:45:20.475248Z",
     "shell.execute_reply.started": "2022-11-06T01:45:18.197749Z"
    },
    "tags": []
   },
   "outputs": [
    {
     "data": {
      "application/vnd.jupyter.widget-view+json": {
       "model_id": "f921bca7780c4ea9913ce055cd3c0609",
       "version_major": 2,
       "version_minor": 0
      },
      "text/plain": [
       "VBox()"
      ]
     },
     "metadata": {},
     "output_type": "display_data"
    },
    {
     "data": {
      "application/vnd.jupyter.widget-view+json": {
       "model_id": "",
       "version_major": 2,
       "version_minor": 0
      },
      "text/plain": [
       "FloatProgress(value=0.0, bar_style='info', description='Progress:', layout=Layout(height='25px', width='50%'),…"
      ]
     },
     "metadata": {},
     "output_type": "display_data"
    }
   ],
   "source": [
    "#log_data = input_data + 'log_data/*'\n",
    "log_data = log_data = input_data + \"log_data/*/*/*.json\"\n",
    "\n",
    "logSchema = StructType([\n",
    "    StructField(\"artist\",StringType()),\n",
    "    StructField(\"auth\",DoubleType()),\n",
    "    StructField(\"firstName\",StringType()),\n",
    "    StructField(\"gender\",StringType()),\n",
    "    StructField(\"itemInSession\",IntegerType()),\n",
    "    StructField(\"lastName\",StringType()),\n",
    "    StructField(\"length\",DoubleType()),\n",
    "    StructField(\"level\",StringType()),\n",
    "    StructField(\"location\",StringType()),\n",
    "    StructField(\"method\",StringType()),\n",
    "    StructField(\"page\",StringType()),\n",
    "    StructField(\"registration\",DoubleType()),\n",
    "    StructField(\"sessionId\",IntegerType()),\n",
    "    StructField(\"song\",StringType()),\n",
    "    StructField(\"status\",IntegerType()),\n",
    "    StructField(\"ts\",LongType()),\n",
    "    StructField(\"userAgent\",StringType()),\n",
    "    StructField(\"userId\",IntegerType()),\n",
    "])\n",
    "\n",
    "df = spark.read.json(log_data).drop_duplicates() #, schema=logSchema\n",
    "#df.printSchema()"
   ]
  },
  {
   "cell_type": "code",
   "execution_count": 36,
   "metadata": {
    "editable": true,
    "execution": {
     "iopub.execute_input": "2022-11-06T01:45:21.285349Z",
     "iopub.status.busy": "2022-11-06T01:45:21.285112Z",
     "iopub.status.idle": "2022-11-06T01:45:21.355902Z",
     "shell.execute_reply": "2022-11-06T01:45:21.355083Z",
     "shell.execute_reply.started": "2022-11-06T01:45:21.285325Z"
    },
    "tags": []
   },
   "outputs": [
    {
     "data": {
      "application/vnd.jupyter.widget-view+json": {
       "model_id": "4f9abba2142446fea66876e948e18283",
       "version_major": 2,
       "version_minor": 0
      },
      "text/plain": [
       "VBox()"
      ]
     },
     "metadata": {},
     "output_type": "display_data"
    },
    {
     "data": {
      "application/vnd.jupyter.widget-view+json": {
       "model_id": "",
       "version_major": 2,
       "version_minor": 0
      },
      "text/plain": [
       "FloatProgress(value=0.0, bar_style='info', description='Progress:', layout=Layout(height='25px', width='50%'),…"
      ]
     },
     "metadata": {},
     "output_type": "display_data"
    }
   ],
   "source": [
    "df.createOrReplaceTempView(\"logs\")"
   ]
  },
  {
   "cell_type": "code",
   "execution_count": 37,
   "metadata": {
    "editable": true,
    "execution": {
     "iopub.execute_input": "2022-11-06T01:45:34.638941Z",
     "iopub.status.busy": "2022-11-06T01:45:34.638696Z",
     "iopub.status.idle": "2022-11-06T01:45:35.914563Z",
     "shell.execute_reply": "2022-11-06T01:45:35.913959Z",
     "shell.execute_reply.started": "2022-11-06T01:45:34.638913Z"
    },
    "tags": []
   },
   "outputs": [
    {
     "data": {
      "application/vnd.jupyter.widget-view+json": {
       "model_id": "1c65e6d05b1246da8eefe4354fd245e9",
       "version_major": 2,
       "version_minor": 0
      },
      "text/plain": [
       "VBox()"
      ]
     },
     "metadata": {},
     "output_type": "display_data"
    },
    {
     "data": {
      "application/vnd.jupyter.widget-view+json": {
       "model_id": "",
       "version_major": 2,
       "version_minor": 0
      },
      "text/plain": [
       "FloatProgress(value=0.0, bar_style='info', description='Progress:', layout=Layout(height='25px', width='50%'),…"
      ]
     },
     "metadata": {},
     "output_type": "display_data"
    },
    {
     "name": "stdout",
     "output_type": "stream",
     "text": [
      "+-----------------+---------+----------+------+-------------+--------+---------+-----+--------------------+------+--------+-----------------+---------+--------------------+------+-------------+--------------------+------+\n",
      "|           artist|     auth| firstName|gender|itemInSession|lastName|   length|level|            location|method|    page|     registration|sessionId|                song|status|           ts|           userAgent|userId|\n",
      "+-----------------+---------+----------+------+-------------+--------+---------+-----+--------------------+------+--------+-----------------+---------+--------------------+------+-------------+--------------------+------+\n",
      "|       Bananarama|Logged In|Jacqueline|     F|           19|   Lynch| 219.0624| paid|Atlanta-Sandy Spr...|   PUT|NextSong|1.540223723796E12|      556|               Venus|   200|1542141364796|\"Mozilla/5.0 (Mac...|    29|\n",
      "|Animal Collective|Logged In|    Aleena|     F|           11|   Kirby|269.81832| paid|Waterloo-Cedar Fa...|   PUT|NextSong|1.541022995796E12|      237|  Summertime Clothes|   200|1541383518796|Mozilla/5.0 (Maci...|    44|\n",
      "|       Billy Idol|Logged In|     Avery|     F|           12|Martinez|335.38567| paid|Atlanta-Sandy Spr...|   PUT|NextSong|1.540646838796E12|      140|Rebel Yell (Acous...|   200|1543398383796|\"Mozilla/5.0 (Mac...|    82|\n",
      "|        Rammstein|Logged In|Jacqueline|     F|           19|   Lynch|264.22812| paid|Atlanta-Sandy Spr...|   PUT|NextSong|1.540223723796E12|      486|               Engel|   200|1542119097796|\"Mozilla/5.0 (Mac...|    29|\n",
      "|            LMFAO|Logged In|     Emily|     F|           14|  Benson|183.74485| paid|Augusta-Richmond ...|   PUT|NextSong|1.540907087796E12|      887|                 Yes|   200|1543391969796|\"Mozilla/5.0 (Win...|    58|\n",
      "+-----------------+---------+----------+------+-------------+--------+---------+-----+--------------------+------+--------+-----------------+---------+--------------------+------+-------------+--------------------+------+\n",
      "only showing top 5 rows"
     ]
    }
   ],
   "source": [
    "logs_table = spark.sql(\"SELECT * FROM logs WHERE page='NextSong'\")\n",
    "logs_table.show(5)"
   ]
  },
  {
   "cell_type": "code",
   "execution_count": 38,
   "metadata": {
    "editable": true,
    "execution": {
     "iopub.execute_input": "2022-11-06T01:45:49.494367Z",
     "iopub.status.busy": "2022-11-06T01:45:49.494132Z",
     "iopub.status.idle": "2022-11-06T01:45:50.274461Z",
     "shell.execute_reply": "2022-11-06T01:45:50.273756Z",
     "shell.execute_reply.started": "2022-11-06T01:45:49.494342Z"
    },
    "tags": []
   },
   "outputs": [
    {
     "data": {
      "application/vnd.jupyter.widget-view+json": {
       "model_id": "69b5cac47d4c4bbdb5f6a7b13cc66137",
       "version_major": 2,
       "version_minor": 0
      },
      "text/plain": [
       "VBox()"
      ]
     },
     "metadata": {},
     "output_type": "display_data"
    },
    {
     "data": {
      "application/vnd.jupyter.widget-view+json": {
       "model_id": "",
       "version_major": 2,
       "version_minor": 0
      },
      "text/plain": [
       "FloatProgress(value=0.0, bar_style='info', description='Progress:', layout=Layout(height='25px', width='50%'),…"
      ]
     },
     "metadata": {},
     "output_type": "display_data"
    },
    {
     "name": "stdout",
     "output_type": "stream",
     "text": [
      "+------+---------+--------+------+-----+\n",
      "|userId|firstName|lastName|gender|level|\n",
      "+------+---------+--------+------+-----+\n",
      "|    49|    Chloe|  Cuevas|     F| paid|\n",
      "|    49|    Chloe|  Cuevas|     F| paid|\n",
      "|    85|  Kinsley|   Young|     F| paid|\n",
      "|    80|    Tegan|  Levine|     F| paid|\n",
      "|    42|   Harper| Barrett|     M| paid|\n",
      "+------+---------+--------+------+-----+\n",
      "only showing top 5 rows"
     ]
    }
   ],
   "source": [
    "users_table = spark.sql(\"SELECT userId, firstName, lastName, gender, level FROM logs WHERE page='NextSong'\")\n",
    "users_table.show(5)"
   ]
  },
  {
   "cell_type": "code",
   "execution_count": 39,
   "metadata": {
    "editable": true,
    "execution": {
     "iopub.execute_input": "2022-11-06T01:45:55.504540Z",
     "iopub.status.busy": "2022-11-06T01:45:55.504294Z",
     "iopub.status.idle": "2022-11-06T01:45:58.794454Z",
     "shell.execute_reply": "2022-11-06T01:45:58.793711Z",
     "shell.execute_reply.started": "2022-11-06T01:45:55.504515Z"
    },
    "tags": []
   },
   "outputs": [
    {
     "data": {
      "application/vnd.jupyter.widget-view+json": {
       "model_id": "b3063f58326f4aec811b97fa62898053",
       "version_major": 2,
       "version_minor": 0
      },
      "text/plain": [
       "VBox()"
      ]
     },
     "metadata": {},
     "output_type": "display_data"
    },
    {
     "data": {
      "application/vnd.jupyter.widget-view+json": {
       "model_id": "",
       "version_major": 2,
       "version_minor": 0
      },
      "text/plain": [
       "FloatProgress(value=0.0, bar_style='info', description='Progress:', layout=Layout(height='25px', width='50%'),…"
      ]
     },
     "metadata": {},
     "output_type": "display_data"
    }
   ],
   "source": [
    "# write users table to parquet files\n",
    "users_table.write.parquet(path=output_data+\"users/users_table.parquet\", mode=\"overwrite\")"
   ]
  },
  {
   "cell_type": "markdown",
   "metadata": {
    "editable": true
   },
   "source": [
    "## Time table"
   ]
  },
  {
   "cell_type": "code",
   "execution_count": 40,
   "metadata": {
    "editable": true,
    "execution": {
     "iopub.execute_input": "2022-11-06T01:46:01.579655Z",
     "iopub.status.busy": "2022-11-06T01:46:01.579386Z",
     "iopub.status.idle": "2022-11-06T01:46:01.846759Z",
     "shell.execute_reply": "2022-11-06T01:46:01.846122Z",
     "shell.execute_reply.started": "2022-11-06T01:46:01.579627Z"
    },
    "tags": []
   },
   "outputs": [
    {
     "data": {
      "application/vnd.jupyter.widget-view+json": {
       "model_id": "c754008607dd47289cd207d7105be14d",
       "version_major": 2,
       "version_minor": 0
      },
      "text/plain": [
       "VBox()"
      ]
     },
     "metadata": {},
     "output_type": "display_data"
    },
    {
     "data": {
      "application/vnd.jupyter.widget-view+json": {
       "model_id": "",
       "version_major": 2,
       "version_minor": 0
      },
      "text/plain": [
       "FloatProgress(value=0.0, bar_style='info', description='Progress:', layout=Layout(height='25px', width='50%'),…"
      ]
     },
     "metadata": {},
     "output_type": "display_data"
    },
    {
     "name": "stdout",
     "output_type": "stream",
     "text": [
      "<function <lambda> at 0x7f8b5bf1bd40>"
     ]
    }
   ],
   "source": [
    "import datetime\n",
    "# create timestamp column from original timestamp column\n",
    "to_timestamp_udf = udf(lambda ts_string: datetime.datetime.fromtimestamp(ts_string / 1000.0),TimestampType())\n",
    "spark.udf.register(\"to_timestamp\", to_timestamp_udf)"
   ]
  },
  {
   "cell_type": "code",
   "execution_count": 41,
   "metadata": {
    "editable": true,
    "execution": {
     "iopub.execute_input": "2022-11-06T01:46:05.993370Z",
     "iopub.status.busy": "2022-11-06T01:46:05.993146Z",
     "iopub.status.idle": "2022-11-06T01:46:06.253881Z",
     "shell.execute_reply": "2022-11-06T01:46:06.253194Z",
     "shell.execute_reply.started": "2022-11-06T01:46:05.993346Z"
    },
    "tags": []
   },
   "outputs": [
    {
     "data": {
      "application/vnd.jupyter.widget-view+json": {
       "model_id": "99b5ca7b7199471793a49aa44f0935ba",
       "version_major": 2,
       "version_minor": 0
      },
      "text/plain": [
       "VBox()"
      ]
     },
     "metadata": {},
     "output_type": "display_data"
    },
    {
     "data": {
      "application/vnd.jupyter.widget-view+json": {
       "model_id": "",
       "version_major": 2,
       "version_minor": 0
      },
      "text/plain": [
       "FloatProgress(value=0.0, bar_style='info', description='Progress:', layout=Layout(height='25px', width='50%'),…"
      ]
     },
     "metadata": {},
     "output_type": "display_data"
    }
   ],
   "source": [
    "time_table = spark.sql(\n",
    "'''\n",
    "SELECT \n",
    "  ts, \n",
    "  hour(to_timestamp(ts)) AS hour,\n",
    "  day(to_timestamp(ts)) AS day,\n",
    "  weekofyear(to_timestamp(ts)) AS week,\n",
    "  month(to_timestamp(ts)) AS month,\n",
    "  year(to_timestamp(ts)) AS year,\n",
    "  weekday(to_timestamp(ts)) AS weekday\n",
    "FROM logs\n",
    "'''\n",
    "          )\n",
    "time_table = time_table.withColumn('start_time', to_timestamp_udf('ts').cast(TimestampType()))"
   ]
  },
  {
   "cell_type": "code",
   "execution_count": 42,
   "metadata": {
    "editable": true,
    "execution": {
     "iopub.execute_input": "2022-11-06T01:46:17.075368Z",
     "iopub.status.busy": "2022-11-06T01:46:17.075105Z",
     "iopub.status.idle": "2022-11-06T01:46:24.377540Z",
     "shell.execute_reply": "2022-11-06T01:46:24.376920Z",
     "shell.execute_reply.started": "2022-11-06T01:46:17.075342Z"
    },
    "tags": []
   },
   "outputs": [
    {
     "data": {
      "application/vnd.jupyter.widget-view+json": {
       "model_id": "05c91acf2567403494f0df7f01efd404",
       "version_major": 2,
       "version_minor": 0
      },
      "text/plain": [
       "VBox()"
      ]
     },
     "metadata": {},
     "output_type": "display_data"
    },
    {
     "data": {
      "application/vnd.jupyter.widget-view+json": {
       "model_id": "",
       "version_major": 2,
       "version_minor": 0
      },
      "text/plain": [
       "FloatProgress(value=0.0, bar_style='info', description='Progress:', layout=Layout(height='25px', width='50%'),…"
      ]
     },
     "metadata": {},
     "output_type": "display_data"
    }
   ],
   "source": [
    "time_table.write.parquet(path=output_data+\"time/time_table.parquet\", mode=\"overwrite\", partitionBy=[\"year\",\"month\"])"
   ]
  },
  {
   "cell_type": "code",
   "execution_count": 43,
   "metadata": {
    "execution": {
     "iopub.execute_input": "2022-11-06T01:46:26.970366Z",
     "iopub.status.busy": "2022-11-06T01:46:26.970140Z",
     "iopub.status.idle": "2022-11-06T01:46:28.253973Z",
     "shell.execute_reply": "2022-11-06T01:46:28.253245Z",
     "shell.execute_reply.started": "2022-11-06T01:46:26.970341Z"
    },
    "tags": []
   },
   "outputs": [
    {
     "data": {
      "application/vnd.jupyter.widget-view+json": {
       "model_id": "a653b2eb483a45518d12b5b4221f605f",
       "version_major": 2,
       "version_minor": 0
      },
      "text/plain": [
       "VBox()"
      ]
     },
     "metadata": {},
     "output_type": "display_data"
    },
    {
     "data": {
      "application/vnd.jupyter.widget-view+json": {
       "model_id": "",
       "version_major": 2,
       "version_minor": 0
      },
      "text/plain": [
       "FloatProgress(value=0.0, bar_style='info', description='Progress:', layout=Layout(height='25px', width='50%'),…"
      ]
     },
     "metadata": {},
     "output_type": "display_data"
    },
    {
     "name": "stdout",
     "output_type": "stream",
     "text": [
      "+-------------+----+---+----+-----+----+-------+--------------------+\n",
      "|           ts|hour|day|week|month|year|weekday|          start_time|\n",
      "+-------------+----+---+----+-----+----+-------+--------------------+\n",
      "|1542141364796|  20| 13|  46|   11|2018|      1|2018-11-13 20:36:...|\n",
      "|1541383518796|   2|  5|  45|   11|2018|      0|2018-11-05 02:05:...|\n",
      "|1543398383796|   9| 28|  48|   11|2018|      2|2018-11-28 09:46:...|\n",
      "|1542119097796|  14| 13|  46|   11|2018|      1|2018-11-13 14:24:...|\n",
      "|1541415367796|  10|  5|  45|   11|2018|      0|2018-11-05 10:56:...|\n",
      "+-------------+----+---+----+-----+----+-------+--------------------+\n",
      "only showing top 5 rows"
     ]
    }
   ],
   "source": [
    "time_table.show(5)"
   ]
  },
  {
   "cell_type": "markdown",
   "metadata": {
    "editable": true
   },
   "source": [
    "## TO-DO"
   ]
  },
  {
   "cell_type": "code",
   "execution_count": 44,
   "metadata": {
    "editable": true,
    "execution": {
     "iopub.execute_input": "2022-11-06T01:46:56.508527Z",
     "iopub.status.busy": "2022-11-06T01:46:56.508291Z",
     "iopub.status.idle": "2022-11-06T01:47:53.945953Z",
     "shell.execute_reply": "2022-11-06T01:47:53.945213Z",
     "shell.execute_reply.started": "2022-11-06T01:46:56.508504Z"
    },
    "tags": []
   },
   "outputs": [
    {
     "data": {
      "application/vnd.jupyter.widget-view+json": {
       "model_id": "6288bec1858140f99d5617ffc5ba2649",
       "version_major": 2,
       "version_minor": 0
      },
      "text/plain": [
       "VBox()"
      ]
     },
     "metadata": {},
     "output_type": "display_data"
    },
    {
     "data": {
      "application/vnd.jupyter.widget-view+json": {
       "model_id": "",
       "version_major": 2,
       "version_minor": 0
      },
      "text/plain": [
       "FloatProgress(value=0.0, bar_style='info', description='Progress:', layout=Layout(height='25px', width='50%'),…"
      ]
     },
     "metadata": {},
     "output_type": "display_data"
    },
    {
     "name": "stdout",
     "output_type": "stream",
     "text": [
      "+------------------+--------------------+------------------+----+---------+\n",
      "|           song_id|               title|         artist_id|year| duration|\n",
      "+------------------+--------------------+------------------+----+---------+\n",
      "|SOLLALT12A8C1399F3|Piano Concerto No...|ARWMEJW11F4C83C123|   0|319.37261|\n",
      "|SOIEUCF12A6D4F9889|Symphony in B fla...|ARBB8QH1187FB54138|   0|398.34077|\n",
      "|SODTEMK12AF72A7210|A Simple Desultor...|ARIWB161187B9AA1D5|1966|138.70975|\n",
      "|SOMGIWL12A8C132D73|1776/He Plays the...|ARTAUG51187FB3E10D|   0| 185.0771|\n",
      "|SOMHOLR12A6D4FBE6A|This Is Why I'm H...|ARGK9MB1187FB37402|   0|258.92526|\n",
      "+------------------+--------------------+------------------+----+---------+\n",
      "only showing top 5 rows"
     ]
    }
   ],
   "source": [
    "# read in song data to use for songplays table\n",
    "song_data = input_data +'song_data/*/*/*'\n",
    "song_df = spark.read.json(song_data, schema=songSchema).drop_duplicates()\n",
    "song_df.createOrReplaceTempView(\"songs\")\n",
    "songs_table = spark.sql(\"SELECT song_id, title, artist_id, year, duration FROM songs\")\n",
    "songs_table.show(5)"
   ]
  },
  {
   "cell_type": "code",
   "execution_count": 51,
   "metadata": {
    "editable": true,
    "execution": {
     "iopub.execute_input": "2022-11-06T02:01:59.410944Z",
     "iopub.status.busy": "2022-11-06T02:01:59.410715Z",
     "iopub.status.idle": "2022-11-06T02:02:36.818380Z",
     "shell.execute_reply": "2022-11-06T02:02:36.817631Z",
     "shell.execute_reply.started": "2022-11-06T02:01:59.410919Z"
    },
    "tags": []
   },
   "outputs": [
    {
     "data": {
      "application/vnd.jupyter.widget-view+json": {
       "model_id": "5dbc36d6c4e449b591bd0d6817346b1d",
       "version_major": 2,
       "version_minor": 0
      },
      "text/plain": [
       "VBox()"
      ]
     },
     "metadata": {},
     "output_type": "display_data"
    },
    {
     "data": {
      "application/vnd.jupyter.widget-view+json": {
       "model_id": "",
       "version_major": 2,
       "version_minor": 0
      },
      "text/plain": [
       "FloatProgress(value=0.0, bar_style='info', description='Progress:', layout=Layout(height='25px', width='50%'),…"
      ]
     },
     "metadata": {},
     "output_type": "display_data"
    },
    {
     "name": "stdout",
     "output_type": "stream",
     "text": [
      "+--------------------+------+-----+------------------+------------------+---------+--------------------+--------------------+----+-----+-----------+\n",
      "|          start_time|userId|level|           song_id|         artist_id|sessionId|            location|           userAgent|year|month|songplay_id|\n",
      "+--------------------+------+-----+------------------+------------------+---------+--------------------+--------------------+----+-----+-----------+\n",
      "|2018-11-01 21:11:...|     8| free|SOEIQUY12AF72A086A|ARHUC691187B9AD27F|      139|Phoenix-Mesa-Scot...|\"Mozilla/5.0 (Win...|2018|   11|          0|\n",
      "|2018-11-02 16:35:...|    50| free|SOBONKR12A58A7A7E0|AR5E44Z1187B9A1D74|      156|New Haven-Milford...|\"Mozilla/5.0 (Win...|2018|   11|          1|\n",
      "|2018-11-02 17:31:...|    10| free|SOHTKMO12AB01843B0|AR5EYTL1187B98EDA0|      182|Washington-Arling...|\"Mozilla/5.0 (Mac...|2018|   11|          2|\n",
      "|2018-11-02 18:02:...|    50| free|SOBONKR12A58A7A7E0|AR5E44Z1187B9A1D74|      207|New Haven-Milford...|\"Mozilla/5.0 (Win...|2018|   11|          3|\n",
      "|2018-11-02 18:36:...|    71| free|SOBBZPM12AB017DF4B|ARH6W4X1187B99274F|       70|        Columbia, SC|\"Mozilla/5.0 (iPh...|2018|   11|          4|\n",
      "+--------------------+------+-----+------------------+------------------+---------+--------------------+--------------------+----+-----+-----------+\n",
      "only showing top 5 rows"
     ]
    }
   ],
   "source": [
    "# extract columns from joined song and log datasets to create songplays table\n",
    "from pyspark.sql import functions as F\n",
    "\n",
    "songplays_table = spark.sql('''\n",
    "SELECT \n",
    "  to_timestamp(l.ts) AS start_time, \n",
    "  l.userId, \n",
    "  l.level, \n",
    "  s.song_id, \n",
    "  s.artist_id, \n",
    "  l.sessionId, \n",
    "  l.location, \n",
    "  l.userAgent,\n",
    "  year(to_timestamp(l.ts)) AS year,\n",
    "  month(to_timestamp(l.ts)) AS month\n",
    "FROM \n",
    "  logs l \n",
    "  INNER JOIN songs s ON l.song = s.title AND l.artist = s.artist_name \n",
    "ORDER BY \n",
    "  l.ts \n",
    "''')\n",
    "songplays_table = songplays_table.withColumn('songplay_id', F.monotonically_increasing_id())\n",
    "#songplays_table = songplays_table.withColumn('start_time', to_timestamp_udf('ts').cast(TimestampType()))\n",
    "songplays_table.show(5)"
   ]
  },
  {
   "cell_type": "code",
   "execution_count": 52,
   "metadata": {
    "editable": true,
    "execution": {
     "iopub.execute_input": "2022-11-06T02:03:26.901921Z",
     "iopub.status.busy": "2022-11-06T02:03:26.901675Z",
     "iopub.status.idle": "2022-11-06T02:04:10.303414Z",
     "shell.execute_reply": "2022-11-06T02:04:10.302777Z",
     "shell.execute_reply.started": "2022-11-06T02:03:26.901894Z"
    },
    "tags": []
   },
   "outputs": [
    {
     "data": {
      "application/vnd.jupyter.widget-view+json": {
       "model_id": "6b88ce4cc6204c14b2582c0550b23c81",
       "version_major": 2,
       "version_minor": 0
      },
      "text/plain": [
       "VBox()"
      ]
     },
     "metadata": {},
     "output_type": "display_data"
    },
    {
     "data": {
      "application/vnd.jupyter.widget-view+json": {
       "model_id": "",
       "version_major": 2,
       "version_minor": 0
      },
      "text/plain": [
       "FloatProgress(value=0.0, bar_style='info', description='Progress:', layout=Layout(height='25px', width='50%'),…"
      ]
     },
     "metadata": {},
     "output_type": "display_data"
    }
   ],
   "source": [
    "# write songplays table to parquet files partitioned by year and month\n",
    "songplays_table.write.parquet(path=output_data+\"songplays/songplays.parquet\", mode=\"overwrite\", partitionBy=[\"year\",\"month\"])"
   ]
  },
  {
   "cell_type": "code",
   "execution_count": null,
   "metadata": {},
   "outputs": [],
   "source": []
  }
 ],
 "metadata": {
  "kernelspec": {
   "display_name": "PySpark",
   "language": "python",
   "name": "pysparkkernel"
  },
  "language_info": {
   "codemirror_mode": {
    "name": "python",
    "version": 3
   },
   "file_extension": ".py",
   "mimetype": "text/x-python",
   "name": "pyspark",
   "pygments_lexer": "python3"
  }
 },
 "nbformat": 4,
 "nbformat_minor": 4
}
